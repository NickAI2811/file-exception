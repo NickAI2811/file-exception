{
  "nbformat": 4,
  "nbformat_minor": 0,
  "metadata": {
    "colab": {
      "provenance": []
    },
    "kernelspec": {
      "name": "python3",
      "display_name": "Python 3"
    },
    "language_info": {
      "name": "python"
    }
  },
  "cells": [
    {
      "cell_type": "markdown",
      "source": [
        "**Files, Exceptional Handling, Logging and Memory Management Questions**"
      ],
      "metadata": {
        "id": "kAiyEqtbtKk8"
      }
    },
    {
      "cell_type": "markdown",
      "source": [
        "Q.1. What is the difference between interpreted and compiled languages?\n",
        "\n",
        "--> The main difference between interpreted and compiled languages lies in how the code is translated into machine language (which the computer can understand and execute).\n",
        "\n"
      ],
      "metadata": {
        "id": "CsaydVZEtYC6"
      }
    },
    {
      "cell_type": "markdown",
      "source": [
        "Q.2. What is exception handling in Python?\n",
        "\n",
        "--> Exception handling in Python is a mechanism that allows you to gracefully deal with errors that occur during program execution, so your program doesn't crash unexpectedly."
      ],
      "metadata": {
        "id": "Gyi1ggIxtmQn"
      }
    },
    {
      "cell_type": "markdown",
      "source": [
        "Q.3. What is the purpose of the finally block in exceptioon handling?\n",
        "\n",
        "--> The finally block in exception handling is used to define clean-up code that always executes, regardless of whether an exception was raised or not."
      ],
      "metadata": {
        "id": "HD0MhSAQtsx_"
      }
    },
    {
      "cell_type": "markdown",
      "source": [
        "Q.4. What is logging in Python?\n",
        "\n",
        "--> Logging in Python is the process of recording messages about your program's execution. These messages can help you track errors, understand program flow, and debug more effectively — especially in larger or long-running applications."
      ],
      "metadata": {
        "id": "IUrGBDGNt4Vo"
      }
    },
    {
      "cell_type": "markdown",
      "source": [
        "Q.5. What is the significance of the __del__ method in Python?\n",
        "\n",
        "--> The __del__ method in Python is known as a destructor. It is called automatically when an object is about to be destroyed (i.e., when its reference count drops to zero or when the program ends)."
      ],
      "metadata": {
        "id": "iT4OOJB8t9Mz"
      }
    },
    {
      "cell_type": "markdown",
      "source": [
        "Q.6. What is the difference between import and from ...import in Python?\n",
        "\n",
        "--> n Python, both import and from ... import are used to bring in external modules or specific items from those modules, but they work differently and serve different purposes."
      ],
      "metadata": {
        "id": "Fbn7G89AuGAU"
      }
    },
    {
      "cell_type": "markdown",
      "source": [
        "Q.7. How can you handle multiple exceptions in Python?\n",
        "\n",
        "--> n Python, you can handle multiple exceptions using several approaches, depending on how you want to manage them. Here are the main ways:\n",
        "\n",
        "\n",
        "1.   Handle Multiple Specific Exceptions Separately\n",
        "2.   Handle Multiple Exceptions in a Single except Block\n",
        "3.   Catch All Exceptions (Generic Handling)\n",
        "4.   Use else and finally with Multiple Exceptions\n",
        "\n",
        "\n"
      ],
      "metadata": {
        "id": "WZHW_YHguR4M"
      }
    },
    {
      "cell_type": "markdown",
      "source": [
        "Q.8. What is the purpose of the with statement when handling files in Python?\n",
        "\n",
        "--> The with statement in Python is used for resource management, especially when working with files. It ensures that resources like file streams are properly closed, even if an error occurs during processing."
      ],
      "metadata": {
        "id": "NJU6dLvpuaTB"
      }
    },
    {
      "cell_type": "markdown",
      "source": [
        "Q.9. What is the difference between multithreading and multiprocessing?\n",
        "\n",
        "--> The difference between multithreading and multiprocessing lies in how they achieve parallelism and how they utilize system resources."
      ],
      "metadata": {
        "id": "5sp2KIiUulmM"
      }
    },
    {
      "cell_type": "markdown",
      "source": [
        "Q.10. What are the advantages of using logging in a program?\n",
        "\n",
        "--> Using logging in a program offers many advantages over using simple print() statements. Logging is a powerful tool for tracking the behavior of your application, especially in production environments."
      ],
      "metadata": {
        "id": "h6LOy7QVuu7E"
      }
    },
    {
      "cell_type": "markdown",
      "source": [
        "Q.11. What is memory management in Python?\n",
        "\n",
        "--> Memory management in Python refers to the way Python allocates, manages, and frees memory for objects during program execution. It’s an automatic process that helps developers focus on writing code without worrying about manually handling memory."
      ],
      "metadata": {
        "id": "n0aaIFEPu5Uw"
      }
    },
    {
      "cell_type": "markdown",
      "source": [
        "Q.12. What are the basic steps involved in exception handling in Python?\n",
        "\n",
        "--> The basic steps involved in exception handling in Python are:\n",
        "\n",
        "\n",
        "1.   Write code that might raise an exception inside a try block\n",
        "2.   Catch exceptions using one or more except blocks\n",
        "3.   Optionally use an else block\n",
        "4.   Optionally use a finally block\n",
        "\n"
      ],
      "metadata": {
        "id": "RRAZNRWVvAQs"
      }
    },
    {
      "cell_type": "markdown",
      "source": [
        "Q.13. Why is memory management important in Python?\n",
        "\n",
        "--> Memory management is important in Python for several key reasons:\n",
        "\n",
        "\n",
        "1.   Efficient Use of Resources\n",
        "2.   Prevents Memory Leaks\n",
        "3.   Improves Program Stability and Performance\n",
        "4.   Simplifies Developer’s Job\n",
        "5.   Supports Dynamic Typing and Flexibility\n",
        "\n"
      ],
      "metadata": {
        "id": "wZ0Q79z4vKJ7"
      }
    },
    {
      "cell_type": "markdown",
      "source": [
        "Q.14. What is the role of try and except in exception handling?\n",
        "\n",
        "--> The role of try and except in exception handling is to gracefully manage errors that might occur during program execution, so your program doesn't crash unexpectedly."
      ],
      "metadata": {
        "id": "cuDxjQ79vRIa"
      }
    },
    {
      "cell_type": "markdown",
      "source": [
        "Q.15. How does Python's garbage collection system work?\n",
        "\n",
        "--> Python's garbage collection system automatically manages memory by reclaiming space used by objects that are no longer needed. It mainly uses two mechanisms:\n",
        "\n",
        "1.   Reference Counting\n",
        "2.   Cyclic Garbage Collector"
      ],
      "metadata": {
        "id": "M9vwjex2vZ93"
      }
    },
    {
      "cell_type": "markdown",
      "source": [
        "Q.16. What is the purpose of the else block in exception handling?\n",
        "\n",
        "--> The else block in Python’s exception handling is used to specify code that should run only if no exception was raised in the try block."
      ],
      "metadata": {
        "id": "t8ItFZHNvigV"
      }
    },
    {
      "cell_type": "markdown",
      "source": [
        "Q.17. What are the common logging levels in Python?\n",
        "\n",
        "--> The common logging levels in Python, defined in the logging module, are:\n",
        "\n",
        "1.   DEBUG (Level 10)\n",
        "Detailed information, typically of interest only when diagnosing problems.\n",
        "2.   INFO (Level 20)\n",
        "Confirmation that things are working as expected.\n",
        "3.   WARNING (Level 30)\n",
        "An indication that something unexpected happened, or indicative of some problem in the near future (e.g., ‘disk space low’). The software is still working as expected.\n",
        "4.   ERROR (Level 40)\n",
        "Due to a more serious problem, the software has not been able to perform some function.\n",
        "5.   CRITICAL (Level 50)\n",
        "A very serious error, indicating that the program itself may be unable to continue running."
      ],
      "metadata": {
        "id": "Rfh7M-lVvrk0"
      }
    },
    {
      "cell_type": "markdown",
      "source": [
        "Q.18. What is the difference between os.fork() and multiprocessing in Python?\n",
        "\n",
        "--> os.fork() is a low-level Unix system call that creates a child process by duplicating the current one. It works only on Unix/Linux and requires manual management.\n",
        "\n",
        "multiprocessing is a high-level, cross-platform Python module that creates and manages processes with easier APIs, supports inter-process communication, and works on both Unix and Windows."
      ],
      "metadata": {
        "id": "nJm1chqtvzSV"
      }
    },
    {
      "cell_type": "markdown",
      "source": [
        "Q.19. What is the importance of closing a file in Python?\n",
        "\n",
        "--> Closing a file in Python is important because:\n",
        "\n",
        "1.  Releases System Resources:\n",
        "When you open a file, the operating system allocates resources (like file handles). Closing the file frees these resources so they can be used elsewhere.\n",
        "2.  Ensures Data is Written:\n",
        "For files opened in write or append mode, data is often buffered (stored temporarily in memory). Closing the file flushes this buffer, making sure all data is actually written to disk.\n",
        "3.  Prevents Data Corruption:\n",
        "If a file isn’t properly closed, you risk data loss or corruption, especially if the program crashes or is terminated unexpectedly.\n",
        "4.  Avoids Limits on Open Files:\n",
        "Most operating systems have a limit on how many files a process can have open simultaneously. Closing files helps avoid hitting this limit."
      ],
      "metadata": {
        "id": "P8KYtti4v9r1"
      }
    },
    {
      "cell_type": "markdown",
      "source": [
        "Q.20. What is the difference between file.read() and file.readline() in Python?\n",
        "\n",
        "--> file.read() reads the entire content of the file (or a specified number of bytes) at once.\n",
        "\n",
        "file.readline() reads the file **one line at a time**, returning a single line per call.\n"
      ],
      "metadata": {
        "id": "ZGDqbxqEwF5M"
      }
    },
    {
      "cell_type": "markdown",
      "source": [
        "Q.21. What is the logging module in Python used for?\n",
        "\n",
        "--> The logging module in Python is used for tracking events that happen when software runs. It helps developers record messages about program execution, errors, warnings, and informational events."
      ],
      "metadata": {
        "id": "VNquFAj3wR0d"
      }
    },
    {
      "cell_type": "markdown",
      "source": [
        "Q.22. What is the os module in Python used for in file handling?\n",
        "\n",
        "--> The os module in Python provides functions to interact with the operating system, and in file handling, it’s used for tasks like:\n",
        "\n",
        "1. Creating, deleting, and renaming files and directories (os.remove(), os.rename(), os.mkdir(), etc.)\n",
        "2. Navigating the file system (os.getcwd(), os.chdir())\n",
        "3. Getting file properties and metadata (os.stat())\n",
        "4. Checking file or directory existence (os.path.exists())\n",
        "5. Managing file permissions (os.chmod())"
      ],
      "metadata": {
        "id": "QPsaT1iTwZ2Q"
      }
    },
    {
      "cell_type": "markdown",
      "source": [
        "Q.23. What are the challenges associated with memory management in Python?\n",
        "\n",
        "--> Challenges associated with memory management in Python include:\n",
        "\n",
        "1. Reference Cycles:\n",
        "Objects that reference each other can create cycles that simple reference counting cannot clean up, requiring a cyclic garbage collector.\n",
        "2. Memory Fragmentation:\n",
        "Frequent allocation and deallocation can cause fragmented memory, reducing efficiency.\n",
        "3. Overhead of Garbage Collection:\n",
        "Automatic garbage collection adds runtime overhead, which may impact performance in memory-intensive programs.\n",
        "4. Unpredictable Timing of Cleanup:\n",
        "Some objects may not be freed immediately due to delayed garbage collection, leading to higher memory usage.\n",
        "5. Handling Large Data:\n",
        "Managing very large objects or datasets in memory efficiently can be challenging, especially when copying or passing data between processes."
      ],
      "metadata": {
        "id": "1YGDzo5Dwlg4"
      }
    },
    {
      "cell_type": "markdown",
      "source": [
        "Q.24. How do you raise an exception manually in Python?\n",
        "\n",
        "--> You can raise an exception manually in Python using the raise statement followed by an exception instance or class."
      ],
      "metadata": {
        "id": "UzGcJZwewtYB"
      }
    },
    {
      "cell_type": "markdown",
      "source": [
        "Q.25. Why is it important to use multithreading in certain applications?\n",
        "\n",
        "--> Multithreading is important in certain applications because it allows:\n",
        "\n",
        "1. Concurrent execution: Multiple threads run at the same time, improving responsiveness and efficiency.\n",
        "2. Better resource utilization: Threads can perform I/O operations (like file or network access) without blocking the entire program.\n",
        "3. Improved performance: For I/O-bound or high-latency tasks, multithreading helps keep the program active while waiting for operations to complete.\n",
        "4. Responsive user interfaces: In GUI apps, background threads prevent the interface from freezing during long tasks."
      ],
      "metadata": {
        "id": "Rve3YHrCw3WT"
      }
    },
    {
      "cell_type": "markdown",
      "source": [],
      "metadata": {
        "id": "fEevHcjRxBxv"
      }
    },
    {
      "cell_type": "markdown",
      "source": [
        "**Practical Questions**"
      ],
      "metadata": {
        "id": "cJrIXeJWxCqq"
      }
    },
    {
      "cell_type": "code",
      "source": [
        "# Q.1. How can you open a file for writing in Python and write a string to it?\n",
        "\n",
        "with open('filename.txt', 'w') as file:\n",
        "    file.write(\"Hello, world!\")"
      ],
      "metadata": {
        "id": "p435FduLxHWh"
      },
      "execution_count": 1,
      "outputs": []
    },
    {
      "cell_type": "code",
      "source": [
        "# Q.2. Write a python program to read the contents of a file and print each line.\n",
        "filename = 'example.txt'\n",
        "\n",
        "with open(filename, 'r') as file:\n",
        "    for line in file:\n",
        "        print(line, end='')"
      ],
      "metadata": {
        "id": "ZbqgOriM2pi8"
      },
      "execution_count": null,
      "outputs": []
    },
    {
      "cell_type": "code",
      "source": [
        "# Q.3. How would you handle a case where the file doesn't exist whil trying to open it for reading?\n",
        "filename = 'nonexistent.txt'\n",
        "\n",
        "try:\n",
        "    with open(filename, 'r') as file:\n",
        "        for line in file:\n",
        "            print(line, end='')\n",
        "except FileNotFoundError:\n",
        "    print(f\"Error: The file '{filename}' does not exist.\")\n"
      ],
      "metadata": {
        "id": "bC3tU4Ey2w2x"
      },
      "execution_count": null,
      "outputs": []
    },
    {
      "cell_type": "code",
      "source": [
        "# Q.4. Write aPython script that reads from one file and writes its content to another file.\n",
        "source_file = 'source.txt'\n",
        "destination_file = 'destination.txt'\n",
        "\n",
        "try:\n",
        "    with open(source_file, 'r') as src, open(destination_file, 'w') as dest:\n",
        "        for line in src:\n",
        "            dest.write(line)\n",
        "    print(\"File copied successfully.\")\n",
        "except FileNotFoundError:\n",
        "    print(f\"Error: The file '{source_file}' does not exist.\")\n",
        "except IOError as e:\n",
        "    print(f\"IO error occurred: {e}\")\n"
      ],
      "metadata": {
        "id": "s9eZzuHP3MHc"
      },
      "execution_count": null,
      "outputs": []
    },
    {
      "cell_type": "code",
      "source": [
        "# Q.5. How would you catch and handle division by zero error in python?\n",
        "try:\n",
        "    result = 10 / 0\n",
        "except ZeroDivisionError:\n",
        "    print(\"Error: Cannot divide by zero!\")\n",
        "else:\n",
        "    print(\"Result is\", result)\n"
      ],
      "metadata": {
        "id": "Z-h8i2ZH3XUH"
      },
      "execution_count": null,
      "outputs": []
    },
    {
      "cell_type": "code",
      "source": [
        "# Q.6. Write a Python program that logs can error message to a log file when a division by zero exception occurs.\n",
        "import logging\n",
        "\n",
        "logging.basicConfig(filename='error.log', level=logging.ERROR,\n",
        "                    format='%(asctime)s - %(levelname)s - %(message)s')\n",
        "\n",
        "try:\n",
        "    result = 10 / 0\n",
        "except ZeroDivisionError as e:\n",
        "    logging.error(\"Division by zero error occurred\", exc_info=True)\n",
        "    print(\"An error occurred. Check 'error.log' for details.\")\n"
      ],
      "metadata": {
        "id": "G4iB_X6b3hYQ"
      },
      "execution_count": null,
      "outputs": []
    },
    {
      "cell_type": "code",
      "source": [
        "# Q.7. How do you log information at different levels (INFO, ERROR, WARNING) in  Python using the logging module?\n",
        "import logging\n",
        "\n",
        "logging.basicConfig(level=logging.DEBUG, format='%(levelname)s: %(message)s')\n",
        "\n",
        "logging.info(\"This is an info message\")\n",
        "logging.warning(\"This is a warning message\")\n",
        "logging.error(\"This is an error message\")\n"
      ],
      "metadata": {
        "id": "HWpWMUNm3tQO"
      },
      "execution_count": null,
      "outputs": []
    },
    {
      "cell_type": "code",
      "source": [
        "# Q.8. Write a program to handle a file opening error using exception handling.\n",
        "filename = 'myfile.txt'\n",
        "\n",
        "try:\n",
        "    with open(filename, 'r') as file:\n",
        "        content = file.read()\n",
        "        print(content)\n",
        "except FileNotFoundError:\n",
        "    print(f\"Error: The file '{filename}' was not found.\")\n",
        "except IOError:\n",
        "    print(f\"Error: An I/O error occurred while trying to open '{filename}'.\")\n"
      ],
      "metadata": {
        "id": "mVhiMfBD3_7Y"
      },
      "execution_count": null,
      "outputs": []
    },
    {
      "cell_type": "code",
      "source": [
        "# Q.9. How can you read a file line by line and store its content in alist in Python?\n",
        "lines = []\n",
        "with open('filename.txt', 'r') as file:\n",
        "    for line in file:\n",
        "        lines.append(line.rstrip('\\n'))\n",
        "\n",
        "print(lines)\n"
      ],
      "metadata": {
        "id": "63Tyymoj4HXX"
      },
      "execution_count": null,
      "outputs": []
    },
    {
      "cell_type": "code",
      "source": [
        "# Q.10. How can you append data to an existing file in Python?\n",
        "with open('file.txt', 'a') as file:\n",
        "    file.write(\"This line will be added at the end.\\n\")\n"
      ],
      "metadata": {
        "id": "n3JvpYn44PMa"
      },
      "execution_count": null,
      "outputs": []
    },
    {
      "cell_type": "code",
      "source": [
        "# Q.11. Write a Python program that uses a try-except block to handle an error when attempting to access a dictionary key that doesn't exist.\n",
        "my_dict = {'a': 1, 'b': 2, 'c': 3}\n",
        "\n",
        "try:\n",
        "    value = my_dict['d']\n",
        "    print(\"Value:\", value)\n",
        "except KeyError:\n",
        "    print(\"Error: The key 'd' does not exist in the dictionary.\")\n"
      ],
      "metadata": {
        "id": "BWrUH9fI4gdE"
      },
      "execution_count": null,
      "outputs": []
    },
    {
      "cell_type": "code",
      "source": [
        "# Q.12. Write a program that demonstartes using multiple except blocks to handle different types of exceptions.\n",
        "try:\n",
        "    num1 = int(input(\"Enter a number: \"))\n",
        "    num2 = int(input(\"Enter another number: \"))\n",
        "    result = num1 / num2\n",
        "    print(\"Result:\", result)\n",
        "except ValueError:\n",
        "    print(\"Error: Invalid input. Please enter numeric values.\")\n",
        "except ZeroDivisionError:\n",
        "    print(\"Error: Cannot divide by zero.\")\n",
        "except Exception as e:\n",
        "    print(f\"An unexpected error occurred: {e}\")\n"
      ],
      "metadata": {
        "id": "alcAs5_24rlH"
      },
      "execution_count": null,
      "outputs": []
    },
    {
      "cell_type": "code",
      "source": [
        "# Q.13. How would you check if a file exists before attempting to read it in Python?\n",
        "You can check if a file exists using the `os.path.exists()` function from the `os` module or `Path.exists()` from the `pathlib` module. Here’s how:\n",
        "\n",
        "# Using os.path.exists():\n",
        "\n",
        "import os\n",
        "\n",
        "filename = 'file.txt'\n",
        "\n",
        "if os.path.exists(filename):\n",
        "    with open(filename, 'r') as file:\n",
        "        content = file.read()\n",
        "        print(content)\n",
        "else:\n",
        "    print(f\"The file '{filename}' does not exist.\")\n",
        "\n",
        "# Using pathlib.Path.exists():\n",
        "\n",
        "from pathlib import Path\n",
        "\n",
        "file_path = Path('file.txt')\n",
        "\n",
        "if file_path.exists():\n",
        "    with open(file_path, 'r') as file:\n",
        "        content = file.read()\n",
        "        print(content)\n",
        "else:\n",
        "    print(f\"The file '{file_path}' does not exist.\")\n"
      ],
      "metadata": {
        "id": "EiSoXBPP40NL"
      },
      "execution_count": null,
      "outputs": []
    },
    {
      "cell_type": "code",
      "source": [
        "# Q.14. Write a program that uses the logging module to log both informational and error messages.\n",
        "import logging\n",
        "\n",
        "logging.basicConfig(level=logging.INFO, format='%(asctime)s - %(levelname)s - %(message)s')\n",
        "\n",
        "logging.info(\"This is an informational message.\")\n",
        "\n",
        "try:\n",
        "    result = 10 / 0\n",
        "except ZeroDivisionError:\n",
        "    logging.error(\"Error: Division by zero occurred.\")\n"
      ],
      "metadata": {
        "id": "IFUw6V5u471f"
      },
      "execution_count": null,
      "outputs": []
    },
    {
      "cell_type": "code",
      "source": [
        "# Q.15. Write aPython program that prints the content of a file and handles the case when the file is empty.\n",
        "filename = 'example.txt'\n",
        "\n",
        "try:\n",
        "    with open(filename, 'r') as file:\n",
        "        content = file.read()\n",
        "        if content:\n",
        "            print(content)\n",
        "        else:\n",
        "            print(\"The file is empty.\")\n",
        "except FileNotFoundError:\n",
        "    print(f\"Error: The file '{filename}' does not exist.\")\n"
      ],
      "metadata": {
        "id": "VDX-ZJbH5CvH"
      },
      "execution_count": null,
      "outputs": []
    },
    {
      "cell_type": "code",
      "source": [
        "# Q.16. Demonstarte how to use memoery profilling to check the memory usage of a samll program.\n",
        "from memory_profiler import memory_usage\n",
        "def my_func():\n",
        "    a = [i * 2 for i in range(100000)]\n",
        "    b = [i ** 2 for i in range(100000)]\n",
        "    return a, b\n",
        "\n",
        "mem_usage = memory_usage(my_func)\n",
        "print(f\"Memory usage over time: {mem_usage}\")\n"
      ],
      "metadata": {
        "id": "SK6ekaKY5Kxx"
      },
      "execution_count": null,
      "outputs": []
    },
    {
      "cell_type": "code",
      "source": [
        "# Q.17. Write a python program to create and write a list of numbers to a file, one number per line.\n",
        "numbers = [10, 20, 30, 40, 50]\n",
        "\n",
        "with open('numbers.txt', 'w') as file:\n",
        "    for num in numbers:\n",
        "        file.write(str(num) + '\\n')\n"
      ],
      "metadata": {
        "id": "YfQnJaX-5SdX"
      },
      "execution_count": null,
      "outputs": []
    },
    {
      "cell_type": "code",
      "source": [
        "# Q.18. How would you implement a basic logging setup that logs to a file with rotation after 1MB?\n",
        "import logging\n",
        "from logging.handlers import RotatingFileHandler\n",
        "\n",
        "# Create logger\n",
        "logger = logging.getLogger('my_logger')\n",
        "logger.setLevel(logging.DEBUG)\n",
        "\n",
        "# Create rotating file handler (1MB max, keep 3 backups)\n",
        "handler = RotatingFileHandler('app.log', maxBytes=1_000_000, backupCount=3)\n",
        "handler.setLevel(logging.DEBUG)\n",
        "\n",
        "# Create formatter and add it to the handler\n",
        "formatter = logging.Formatter('%(asctime)s - %(levelname)s - %(message)s')\n",
        "handler.setFormatter(formatter)\n",
        "\n",
        "# Add handler to logger\n",
        "logger.addHandler(handler)\n",
        "\n",
        "# Example logs\n",
        "logger.info(\"This is an info message.\")\n",
        "logger.error(\"This is an error message.\")\n"
      ],
      "metadata": {
        "id": "C7MwRPsq5bEv"
      },
      "execution_count": null,
      "outputs": []
    },
    {
      "cell_type": "code",
      "source": [
        "# Q.19. Write a program that handles both IndexError and KeyError using a try-except block.\n",
        "my_list = [1, 2, 3]\n",
        "my_dict = {'a': 10, 'b': 20}\n",
        "\n",
        "try:\n",
        "    # Accessing an invalid index\n",
        "    print(my_list[5])\n",
        "    # Accessing a non-existent key\n",
        "    print(my_dict['c'])\n",
        "except IndexError:\n",
        "    print(\"Error: List index out of range.\")\n",
        "except KeyError:\n",
        "    print(\"Error: Key not found in dictionary.\")\n"
      ],
      "metadata": {
        "id": "JMw8JSSi5inw"
      },
      "execution_count": null,
      "outputs": []
    },
    {
      "cell_type": "code",
      "source": [
        "# Q.20. How would you open a file and read its contents using a context manager in Python?\n",
        "with open('filename.txt', 'r') as file:\n",
        "    content = file.read()\n",
        "    print(content)\n"
      ],
      "metadata": {
        "id": "c5Auqb8-5qmc"
      },
      "execution_count": null,
      "outputs": []
    },
    {
      "cell_type": "code",
      "source": [
        "# Q.21. Write a Python program that reads a file and prints the number of occurrences of a specific word.\n",
        "filename = 'sample.txt'\n",
        "word_to_count = 'python'\n",
        "\n",
        "try:\n",
        "    with open(filename, 'r') as file:\n",
        "        content = file.read().lower()  # Convert to lowercase for case-insensitive search\n",
        "        words = content.split()\n",
        "        count = words.count(word_to_count.lower())\n",
        "    print(f\"The word '{word_to_count}' occurs {count} times in the file.\")\n",
        "except FileNotFoundError:\n",
        "    print(f\"Error: The file '{filename}' does not exist.\")\n"
      ],
      "metadata": {
        "id": "Qz2TzCFq5xmI"
      },
      "execution_count": null,
      "outputs": []
    },
    {
      "cell_type": "code",
      "source": [
        "# Q.22. How can you check if a file is empty before attempting to read its contents?\n",
        "import os\n",
        "\n",
        "filename = 'file.txt'\n",
        "\n",
        "if os.path.exists(filename) and os.path.getsize(filename) > 0:\n",
        "    with open(filename, 'r') as file:\n",
        "        content = file.read()\n",
        "        print(content)\n",
        "else:\n",
        "    print(\"The file is empty or does not exist.\")\n"
      ],
      "metadata": {
        "id": "mY8q9uUA55cN"
      },
      "execution_count": null,
      "outputs": []
    },
    {
      "cell_type": "code",
      "source": [
        "# Q.23. Write a Python program that writes a log file when an error occurs during file handling.\n",
        "import logging\n",
        "\n",
        "# Configure logging to write errors to a file\n",
        "logging.basicConfig(filename='file_errors.log', level=logging.ERROR,\n",
        "                    format='%(asctime)s - %(levelname)s - %(message)s')\n",
        "\n",
        "filename = 'example.txt'\n",
        "\n",
        "try:\n",
        "    with open(filename, 'r') as file:\n",
        "        content = file.read()\n",
        "        print(content)\n",
        "except Exception as e:\n",
        "    logging.error(f\"Error occurred while handling the file '{filename}': {e}\")\n",
        "    print(\"An error occurred. Check 'file_errors.log' for details.\")\n"
      ],
      "metadata": {
        "id": "Hq8udpO-6ATh"
      },
      "execution_count": null,
      "outputs": []
    }
  ]
}